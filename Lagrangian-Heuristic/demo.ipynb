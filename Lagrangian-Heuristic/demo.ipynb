{
 "cells": [
  {
   "cell_type": "code",
   "execution_count": 1,
   "id": "456f3e1f-c228-40a5-bfb5-44544fc43ddb",
   "metadata": {},
   "outputs": [],
   "source": [
    "import numpy as np\n",
    "import heuristics"
   ]
  },
  {
   "cell_type": "code",
   "execution_count": 2,
   "id": "0b12e405-e188-485a-a2a2-4e9ffa31130b",
   "metadata": {},
   "outputs": [],
   "source": [
    "np.random.seed(1)\n",
    "n = 500\n",
    "p = 10000\n",
    "k = 10\n",
    "X = np.random.randn(n,p)\n",
    "beta = np.zeros(p)\n",
    "beta[np.random.choice(p,k,replace=False)]=1\n",
    "y = X@beta\n",
    "beta_truth = np.copy(beta)"
   ]
  },
  {
   "cell_type": "code",
   "execution_count": 3,
   "id": "fb824b6d-9971-4c13-80d0-d0ab2f8d19fb",
   "metadata": {},
   "outputs": [],
   "source": [
    "l0=28.\n",
    "l2=0.1\n",
    "M=1.\n",
    "cost_truth = np.linalg.norm(y-X@beta_truth)**2+l0*np.sum(beta_truth!=0)+l2*np.sum(beta_truth**2)"
   ]
  },
  {
   "cell_type": "code",
   "execution_count": 4,
   "id": "548a7540-e34b-4079-b80c-999c2877e8f1",
   "metadata": {},
   "outputs": [
    {
     "name": "stdout",
     "output_type": "stream",
     "text": [
      "cost 280.99966828838495\n",
      "280.99965107572183\n",
      "iter 1\n",
      "cost 280.99965107572183\n",
      "no outliers, computing relative accuracy...\n"
     ]
    }
   ],
   "source": [
    "beta1, cost1, _, support1 = heuristics.L0L2_ASCD_solve(X, y, l0, l2, M, upper_active_set_mask=None, S_diag=None, warm_start=None, \\\n",
    "                    cd_tol=1e-4, cd_max_itr=100, rel_tol=1e-6, kkt_max_itr=100, timing=False, maxtime=np.inf, verbose=True)"
   ]
  },
  {
   "cell_type": "code",
   "execution_count": 5,
   "id": "5db50326-a068-40be-b906-bdff517d321c",
   "metadata": {},
   "outputs": [
    {
     "data": {
      "text/plain": [
       "array([ 239,  304, 1048, 2119, 2186, 6501, 6866, 7301, 7544, 9967])"
      ]
     },
     "execution_count": 5,
     "metadata": {},
     "output_type": "execute_result"
    }
   ],
   "source": [
    "np.where(beta1)[0]"
   ]
  },
  {
   "cell_type": "code",
   "execution_count": 6,
   "id": "1c4b9443-12da-46c8-ac5c-3d20769a3720",
   "metadata": {},
   "outputs": [
    {
     "data": {
      "text/plain": [
       "array([ 239,  304, 1048, 2119, 2186, 6501, 6866, 7301, 7544, 9967])"
      ]
     },
     "execution_count": 6,
     "metadata": {},
     "output_type": "execute_result"
    }
   ],
   "source": [
    "np.where(beta_truth)[0]"
   ]
  },
  {
   "cell_type": "code",
   "execution_count": 7,
   "id": "ce8c8c0d-2bca-4434-896c-38e40362ec11",
   "metadata": {},
   "outputs": [
    {
     "data": {
      "text/plain": [
       "array([0.99976739, 0.99967986, 0.99966559, 0.99964781, 0.9995955 ,\n",
       "       0.99956777, 0.99971882, 0.99963541, 0.99957282, 0.99959081])"
      ]
     },
     "execution_count": 7,
     "metadata": {},
     "output_type": "execute_result"
    }
   ],
   "source": [
    "beta1[beta1!=0]"
   ]
  },
  {
   "cell_type": "code",
   "execution_count": 8,
   "id": "9b59defd-e9ec-4c99-bf3c-77c10822899f",
   "metadata": {},
   "outputs": [
    {
     "data": {
      "text/plain": [
       "(280.99965107572183, 281.0)"
      ]
     },
     "execution_count": 8,
     "metadata": {},
     "output_type": "execute_result"
    }
   ],
   "source": [
    "cost1, cost_truth"
   ]
  },
  {
   "cell_type": "code",
   "execution_count": 9,
   "id": "6b2d9c77-428b-400f-b190-3118fe9ff5a6",
   "metadata": {},
   "outputs": [
    {
     "name": "stdout",
     "output_type": "stream",
     "text": [
      "cost 281.0\n",
      "280.999652371465\n",
      "iter 1\n",
      "cost 280.999652371465\n",
      "no outliers, computing relative accuracy...\n"
     ]
    }
   ],
   "source": [
    "warm_start = {'beta':beta_truth, 'support':set(np.where(beta_truth)[0])}\n",
    "\n",
    "beta2, cost2, _, support2 = heuristics.L0L2_ASCD_solve(X, y, l0, l2, M, upper_active_set_mask=None, S_diag=None, warm_start=warm_start, \\\n",
    "                    cd_tol=1e-4, cd_max_itr=100, rel_tol=1e-6, kkt_max_itr=100, timing=False, maxtime=np.inf, verbose=True)"
   ]
  },
  {
   "cell_type": "code",
   "execution_count": null,
   "id": "f647fb7a-65b7-4a40-9cac-308fab0e9397",
   "metadata": {},
   "outputs": [],
   "source": []
  },
  {
   "cell_type": "code",
   "execution_count": 10,
   "id": "45e98935-5588-497e-a97a-3467572d0e09",
   "metadata": {},
   "outputs": [
    {
     "name": "stdout",
     "output_type": "stream",
     "text": [
      "L0L2 Heuristics Started.\n",
      "491.00296963715516 0.1\n",
      "Iteration: 0. Number of non-zeros:  1\n",
      "392.8023757097242 0.1\n",
      "Iteration: 1. Number of non-zeros:  2\n",
      "314.24190056777934 0.1\n",
      "Iteration: 2. Number of non-zeros:  3\n",
      "251.39352045422348 0.1\n",
      "Iteration: 3. Number of non-zeros:  4\n",
      "201.1148163633788 0.1\n",
      "Iteration: 4. Number of non-zeros:  10\n"
     ]
    },
    {
     "name": "stderr",
     "output_type": "stream",
     "text": [
      "/home/gridsan/wenyu/Research/NetworkPruning/Lagrangian-Heuristic/heuristics.py:281: RuntimeWarning: invalid value encountered in add\n",
      "  criterion = np.where(np.abs(b)/2/(a+l2)<=M, b**2/4/(a+l2), -a*M**2+np.abs(b)*M-l2*M**2)\n"
     ]
    }
   ],
   "source": [
    "l0_grid1,sols1= heuristics.fit_path_L0L2(X, y, lambda2 = 0.1, M = np.inf, solver='ASCD',\n",
    "                  lambda0_grid = None, maxSuppSize = k,verbose=True)"
   ]
  },
  {
   "cell_type": "code",
   "execution_count": null,
   "id": "18b04806-4632-4307-a914-227649ce3613",
   "metadata": {},
   "outputs": [],
   "source": []
  },
  {
   "cell_type": "code",
   "execution_count": 11,
   "id": "a852b890-c6ac-484e-b8d3-8327fe300895",
   "metadata": {},
   "outputs": [
    {
     "name": "stdout",
     "output_type": "stream",
     "text": [
      "L0L2 Heuristics Started.\n",
      "1000.0 0.1\n",
      "Iteration: 0. Number of non-zeros:  0\n",
      "774.263682681127 0.1\n",
      "Iteration: 1. Number of non-zeros:  0\n",
      "599.4842503189409 0.1\n",
      "Iteration: 2. Number of non-zeros:  0\n",
      "464.15888336127773 0.1\n",
      "Iteration: 3. Number of non-zeros:  1\n",
      "359.38136638046257 0.1\n",
      "Iteration: 4. Number of non-zeros:  3\n",
      "278.2559402207126 0.1\n",
      "Iteration: 5. Number of non-zeros:  3\n",
      "215.44346900318845 0.1\n",
      "Iteration: 6. Number of non-zeros:  8\n",
      "166.81005372000593 0.1\n",
      "Iteration: 7. Number of non-zeros:  10\n"
     ]
    }
   ],
   "source": [
    "l0_grid2,sols2=heuristics.fit_path_L0L2(X, y, lambda2 = 0.1, M = np.inf, solver='ASCD',\n",
    "                  lambda0_grid = np.logspace(2,3,10), maxSuppSize = k,verbose=True)"
   ]
  },
  {
   "cell_type": "code",
   "execution_count": null,
   "id": "811905ad-c597-4743-bc17-a0acdb8736b0",
   "metadata": {},
   "outputs": [],
   "source": []
  },
  {
   "cell_type": "code",
   "execution_count": null,
   "id": "cb07b15d-cb1f-4de5-839b-44a909453653",
   "metadata": {},
   "outputs": [],
   "source": []
  },
  {
   "cell_type": "code",
   "execution_count": null,
   "id": "4251fbbc-ff8d-4a80-90c0-429255f4e65e",
   "metadata": {},
   "outputs": [],
   "source": []
  }
 ],
 "metadata": {
  "kernelspec": {
   "display_name": "Python 3 (ipykernel)",
   "language": "python",
   "name": "python3"
  },
  "language_info": {
   "codemirror_mode": {
    "name": "ipython",
    "version": 3
   },
   "file_extension": ".py",
   "mimetype": "text/x-python",
   "name": "python",
   "nbconvert_exporter": "python",
   "pygments_lexer": "ipython3",
   "version": "3.9.7"
  }
 },
 "nbformat": 4,
 "nbformat_minor": 5
}
