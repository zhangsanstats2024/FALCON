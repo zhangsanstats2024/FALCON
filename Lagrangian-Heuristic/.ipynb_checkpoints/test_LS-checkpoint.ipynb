{
 "cells": [
  {
   "cell_type": "code",
   "execution_count": 1,
   "metadata": {},
   "outputs": [],
   "source": [
    "from load_data import *\n",
    "from fitpath import *\n",
    "import L0_card\n",
    "import numpy as np\n",
    "import copy\n",
    "import matplotlib.pyplot as plt"
   ]
  },
  {
   "cell_type": "code",
   "execution_count": 2,
   "metadata": {},
   "outputs": [],
   "source": [
    "sample_size = 1000\n",
    "batch_size = 1\n",
    "seed = 1\n",
    "model_name = \"resnet20\""
   ]
  },
  {
   "cell_type": "code",
   "execution_count": 3,
   "metadata": {},
   "outputs": [
    {
     "name": "stdout",
     "output_type": "stream",
     "text": [
      "Files already downloaded and verified\n",
      "Files already downloaded and verified\n",
      "---computing gradients--  0\n",
      "---computing gradients--  100\n",
      "---computing gradients--  200\n",
      "---computing gradients--  300\n",
      "---computing gradients--  400\n",
      "---computing gradients--  500\n",
      "---computing gradients--  600\n",
      "---computing gradients--  700\n",
      "---computing gradients--  800\n",
      "---computing gradients--  900\n"
     ]
    }
   ],
   "source": [
    "X, w_bar, model, criterion, train_dataloader, test_dataloader, modules_to_prune = load_Xw(model_name, sample_size, batch_size, seed)"
   ]
  },
  {
   "cell_type": "code",
   "execution_count": 4,
   "metadata": {},
   "outputs": [],
   "source": [
    "y = X@w_bar\n",
    "n, p = X.shape\n",
    "beta = w_bar\n",
    "r = y - X@beta\n",
    "sparsity = 0.9\n",
    "ntot = w_bar.shape[0]\n",
    "k = int(ntot * (1-sparsity))"
   ]
  },
  {
   "cell_type": "code",
   "execution_count": null,
   "metadata": {},
   "outputs": [],
   "source": []
  },
  {
   "cell_type": "markdown",
   "metadata": {},
   "source": [
    "+ use_prune:\n",
    "   - True -- Use advanced line search for pruning\n",
    "   -  False -- Use magnitude pruning"
   ]
  },
  {
   "cell_type": "code",
   "execution_count": 5,
   "metadata": {},
   "outputs": [],
   "source": [
    "beta = np.copy(w_bar)\n",
    "beta_new, f, r, sol_time  = L0_card.Heuristic_LS(y,X,beta,k,alpha=X.T@np.ones(n),lambda1=0.,lambda2=1,\n",
    "                    beta_tilde1=np.copy(w_bar), beta_tilde2=np.copy(w_bar), M=np.inf, use_prune = True)"
   ]
  },
  {
   "cell_type": "code",
   "execution_count": 6,
   "metadata": {},
   "outputs": [
    {
     "data": {
      "text/plain": [
       "(25140.38711330828, 2.755033493041992)"
      ]
     },
     "execution_count": 6,
     "metadata": {},
     "output_type": "execute_result"
    }
   ],
   "source": [
    "f, sol_time"
   ]
  },
  {
   "cell_type": "markdown",
   "metadata": {},
   "source": [
    "+ use_prune:\n",
    "   - True -- Use advanced line search for pruning\n",
    "   -  False -- Use magnitude pruning\n",
    "+ per_idx: a permutation of 1~p, used to permute variable, default is np.arange(p)\n",
    "+ num_block: number of blocks\n",
    "+ block_list: a partition of block, block should be contiguous (if not, set appropriate per_idx such that beta[per_idx] has contiguous block partition)\n",
    "     - example -- p=10, expected partition is (012)(345)(6789), set block_list=[0,3,6,10]\n",
    "     - default -- block_list = list(range(0,p+1,int(p/num_block)));  block_list[-1] = p\n",
    "+ split_type:\n",
    "    - 0 -- sparsity of each block is proportional to its length\n",
    "    - 1 -- sparsity of each block is determined by pruning result (better in practice)"
   ]
  },
  {
   "cell_type": "code",
   "execution_count": 7,
   "metadata": {},
   "outputs": [
    {
     "name": "stdout",
     "output_type": "stream",
     "text": [
      "Total non-zero: 26833\n"
     ]
    }
   ],
   "source": [
    "beta = np.copy(w_bar)\n",
    "beta_new, f, r, sol_time = L0_card.Heuristic_LSBlock(np.copy(w_bar),X,beta,k,X.T@np.ones(n),lambda1=0.,lambda2=1,\n",
    "       beta_tilde1=np.copy(w_bar), beta_tilde2=np.copy(w_bar), M=np.inf, use_prune = True, per_idx=None, num_block=10, block_list=None, split_type=1)"
   ]
  },
  {
   "cell_type": "code",
   "execution_count": 8,
   "metadata": {},
   "outputs": [
    {
     "data": {
      "text/plain": [
       "(42918.8825419568, 9.506218910217285)"
      ]
     },
     "execution_count": 8,
     "metadata": {},
     "output_type": "execute_result"
    }
   ],
   "source": [
    "f, sol_time"
   ]
  },
  {
   "cell_type": "code",
   "execution_count": null,
   "metadata": {},
   "outputs": [],
   "source": []
  }
 ],
 "metadata": {
  "kernelspec": {
   "display_name": "Python 3",
   "language": "python",
   "name": "python3"
  },
  "language_info": {
   "codemirror_mode": {
    "name": "ipython",
    "version": 3
   },
   "file_extension": ".py",
   "mimetype": "text/x-python",
   "name": "python",
   "nbconvert_exporter": "python",
   "pygments_lexer": "ipython3",
   "version": "3.8.5"
  }
 },
 "nbformat": 4,
 "nbformat_minor": 4
}
